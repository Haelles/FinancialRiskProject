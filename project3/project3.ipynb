{
 "cells": [
  {
   "attachments": {},
   "cell_type": "markdown",
   "metadata": {},
   "source": [
    "# homework3\n",
    "22210980119 于鹏"
   ]
  },
  {
   "cell_type": "code",
   "execution_count": 1,
   "metadata": {},
   "outputs": [],
   "source": [
    "import numpy as np\n",
    "import pandas as pd\n",
    "from PIL import Image"
   ]
  },
  {
   "attachments": {},
   "cell_type": "markdown",
   "metadata": {},
   "source": [
    "## Q1\n",
    "#### (a)"
   ]
  },
  {
   "cell_type": "code",
   "execution_count": 115,
   "metadata": {},
   "outputs": [],
   "source": [
    "investment1_prob = [0.94, 0.03, 0.03]\n",
    "investment1_loss = [-1, 2, 12]\n",
    "investment2_prob = [0.94, 0.03, 0.03]\n",
    "investment2_loss = [-1, 2, 12]"
   ]
  },
  {
   "attachments": {},
   "cell_type": "markdown",
   "metadata": {},
   "source": [
    "根据定义，$VaR_{\\alpha}(x)=inf\\{x:F(x)\\geq \\alpha\\}$，可以转化为$VaR_{\\alpha}(x)=inf\\{x: \\alpha - F(x)\\leq 0\\}$，而$F(x)$可以转化为各个离散点的概率之和，因此代码部分如下："
   ]
  },
  {
   "cell_type": "code",
   "execution_count": 116,
   "metadata": {},
   "outputs": [],
   "source": [
    "def cal_VaR(investment_prob, investment_loss, confidence_level):\n",
    "    for cur_prob, cur_loss in zip(investment_prob, investment_loss):\n",
    "        confidence_level -= cur_prob\n",
    "        if confidence_level <= 0:\n",
    "            print('investment的VaR是{VaR}'.format(VaR=cur_loss))\n",
    "            break"
   ]
  },
  {
   "cell_type": "code",
   "execution_count": 117,
   "metadata": {},
   "outputs": [
    {
     "name": "stdout",
     "output_type": "stream",
     "text": [
      "investment的VaR是2\n"
     ]
    }
   ],
   "source": [
    "cal_VaR(investment1_prob, investment1_loss, confidence_level=0.95)"
   ]
  },
  {
   "attachments": {},
   "cell_type": "markdown",
   "metadata": {},
   "source": [
    "也即在95%的置信度上，VaR为2million\n",
    "\n",
    "### (b)\n",
    "\n",
    "首先可以写出累积分布函数\n",
    "\n",
    "$\\begin{equation}\n",
    "\tF(x) = \\begin{cases}\n",
    "\t0, &x < -1 \\\\\n",
    "\t0.94, & -1 \\le x <2 \\\\\n",
    "\t0.97, & 2 \\le x <12 \\\\\n",
    "\t1, & 12 \\le x\n",
    "\t\t   \\end{cases}\n",
    "\\end{equation}$\n",
    "\n",
    "然后可以求出$VaR_{\\beta}(x)$\n",
    "\n",
    "$\\begin{equation}\n",
    "\tVaR_{\\beta}(x) = \\begin{cases}\n",
    "\t-1, &\\beta \\le 0.94 \\\\\n",
    "\t2, & 0.94 < \\beta \\le 0.97 \\\\\n",
    "\t12, &0.97 < \\beta \\le 1\n",
    "\t\t   \\end{cases}\n",
    "\\end{equation}$"
   ]
  },
  {
   "attachments": {},
   "cell_type": "markdown",
   "metadata": {},
   "source": [
    "然后计算ES，$1/(1-0.95)*[2*(0.97-0.95)+12*(1-0.97)]=8.0$，也即ES为8million"
   ]
  },
  {
   "cell_type": "code",
   "execution_count": 147,
   "metadata": {},
   "outputs": [
    {
     "data": {
      "text/plain": [
       "8.0"
      ]
     },
     "execution_count": 147,
     "metadata": {},
     "output_type": "execute_result"
    }
   ],
   "source": [
    "1/(1-0.95)*(2*(0.97-0.95)+12*(1-0.97))"
   ]
  },
  {
   "cell_type": "code",
   "execution_count": 86,
   "metadata": {},
   "outputs": [],
   "source": [
    "def cal_ES(investment_prob, investment_loss, confidence_level):\n",
    "    res = 0\n",
    "    out_of_onfidence = 1.0 - confidence_level\n",
    "    for i in range(len(investment_prob) - 1, -1, -1):\n",
    "        out_of_onfidence -= investment_prob[i]\n",
    "        if out_of_onfidence >= 0:\n",
    "            res += (investment_prob[i] * investment_loss[i])\n",
    "        else:\n",
    "            res += ((investment_prob[i] + out_of_onfidence) * investment_loss[i])\n",
    "            break\n",
    "    res = res / (1 - confidence_level)\n",
    "    print('ES is %.3f' % (res))"
   ]
  },
  {
   "cell_type": "code",
   "execution_count": null,
   "metadata": {},
   "outputs": [
    {
     "name": "stdout",
     "output_type": "stream",
     "text": [
      "ES is 8.000\n"
     ]
    }
   ],
   "source": [
    "cal_ES(investment1_prob, investment1_loss, 0.95)"
   ]
  },
  {
   "attachments": {},
   "cell_type": "markdown",
   "metadata": {},
   "source": [
    "也即在95%的置信度上，ES为8million（其实感觉这个代码可能对一些边界情况有点问题，但写了就先不删了，虽然对本题目没问题，但还是以上面写出的VaR分布函数的计算结果为准）\n",
    "\n",
    "### (c)\n",
    "首先可以算出组合的联合概率分布"
   ]
  },
  {
   "cell_type": "code",
   "execution_count": 120,
   "metadata": {},
   "outputs": [
    {
     "name": "stdout",
     "output_type": "stream",
     "text": [
      "{-2: 0.8835999999999999, 1: 0.05639999999999999, 4: 0.0009, 11: 0.05639999999999999, 14: 0.0018, 24: 0.0009}\n"
     ]
    }
   ],
   "source": [
    "combined_res = {}\n",
    "for cur_loss1, cur_prob1 in zip(investment1_loss, investment1_prob):\n",
    "    for cur_loss2, cur_prob2 in zip(investment2_loss, investment2_prob):\n",
    "        tmp = cur_loss1 + cur_loss2\n",
    "        if tmp in combined_res.keys():\n",
    "            combined_res[tmp] += cur_prob1 * cur_prob2\n",
    "        else:\n",
    "            combined_res[tmp] = cur_prob1 * cur_prob2\n",
    "combined_res_tmp = sorted(combined_res.items(), key=lambda x:x[0])\n",
    "combined_res = {}\n",
    "for cur_res in combined_res_tmp:\n",
    "    combined_res[cur_res[0]] = cur_res[1]\n",
    "print(combined_res)"
   ]
  },
  {
   "attachments": {},
   "cell_type": "markdown",
   "metadata": {},
   "source": [
    "由此得到了两种产品组合的联合概率分布，可以看到一共有6种不同的可能结果，最小的loss为-2也即盈利2million，最大的loss为24也即亏损24million\n",
    "\n",
    "首先可以写出累积分布函数\n",
    "\n",
    "$\\begin{equation}\n",
    "\tF(x) = \\begin{cases}\n",
    "\t0, &x < -2 \\\\\n",
    "\t0.8836, & -2 \\le x <1 \\\\\n",
    "    0.94, & 1 \\le x <4 \\\\\n",
    "    0.9409, & 4 \\le x <11 \\\\\n",
    "\t0.9973, & 11 \\le x <14 \\\\\n",
    "    0.9991, & 14 \\le x < 24 \\\\\n",
    "\t1, & 24 \\le x\n",
    "\t\t   \\end{cases}\n",
    "\\end{equation}$\n",
    "\n",
    "然后可以求出$VaR_{\\beta}(x)$\n",
    "\n",
    "$\\begin{equation}\n",
    "\tVaR_{\\beta}(x) = \\begin{cases}\n",
    "\t-2, &\\beta < 0.8836 \\\\\n",
    "\t1, & 0.8836 < \\beta \\le 0.94 \\\\\n",
    "    4, & 0.94 < \\beta \\le 0.9409 \\\\\n",
    "    11, & 0.9409 < \\beta \\le 0.9973 \\\\\n",
    "    14, & 0.9973 < \\beta \\le 0.9991 \\\\\n",
    "\t24, &0.9991 < \\beta \\le 1\n",
    "\t\t   \\end{cases}\n",
    "\\end{equation}$"
   ]
  },
  {
   "cell_type": "code",
   "execution_count": 121,
   "metadata": {},
   "outputs": [
    {
     "name": "stdout",
     "output_type": "stream",
     "text": [
      "investment的VaR是11\n"
     ]
    }
   ],
   "source": [
    "combined_loss = list(combined_res.keys())\n",
    "combined_prob = list(combined_res.values())\n",
    "cal_VaR(combined_prob, combined_res, confidence_level=0.95)"
   ]
  },
  {
   "attachments": {},
   "cell_type": "markdown",
   "metadata": {},
   "source": [
    "调用之前的函数，得到此时95%置信度的VaR为11million"
   ]
  },
  {
   "attachments": {},
   "cell_type": "markdown",
   "metadata": {},
   "source": [
    "### (d)\n",
    "获得联合概率分布后，可以调用之前的cal_ES()函数求组合的ES"
   ]
  },
  {
   "cell_type": "code",
   "execution_count": 90,
   "metadata": {},
   "outputs": [
    {
     "name": "stdout",
     "output_type": "stream",
     "text": [
      "ES is 11.342\n"
     ]
    }
   ],
   "source": [
    "cal_ES(combined_prob, combined_loss, 0.95)"
   ]
  },
  {
   "attachments": {},
   "cell_type": "markdown",
   "metadata": {},
   "source": [
    "调用之前的函数，得到此时95%置信度的ES为11.342million，用$VaR_{\\beta}(x)$的分布函数也是相同的结果"
   ]
  },
  {
   "attachments": {},
   "cell_type": "markdown",
   "metadata": {},
   "source": [
    "### (e)\n",
    "根据如上计算，可知道上述两种投资各自的VaR是2million，ES是8million，组合起来后VaR是11million，ES是11.342million\n",
    "\n",
    "对于subadditivity，需要满足$\\rho(X+Y) \\leq \\rho(x) + \\rho(Y)$，对于VaR有$11 > 2+2$，对于ES有$11.342 < 8+8$，所以可以看到VaR不满足subadditivity，而ES满足这个性质，这也与老师在课堂上讲的相吻合"
   ]
  },
  {
   "attachments": {},
   "cell_type": "markdown",
   "metadata": {},
   "source": [
    "## Q2\n",
    "\n",
    "首先读取文件"
   ]
  },
  {
   "cell_type": "code",
   "execution_count": 123,
   "metadata": {},
   "outputs": [],
   "source": [
    "original_data = pd.read_excel('HistoricalSimulation.xlsx')"
   ]
  },
  {
   "cell_type": "code",
   "execution_count": 124,
   "metadata": {},
   "outputs": [
    {
     "data": {
      "text/plain": [
       "array(['Unnamed: 0', 'Unnamed: 1', 'Unnamed: 2', 'Unnamed: 3',\n",
       "       'Unnamed: 4', 'Unnamed: 5', 'Exch Rate', 'Adjusted', 'Unnamed: 8',\n",
       "       'Unnamed: 9', 'Exch Rate.1', 'Adjusted.1', 'Unnamed: 12',\n",
       "       'Unnamed: 13', 'Exch Rate.2', 'Adjusted.2'], dtype=object)"
      ]
     },
     "execution_count": 124,
     "metadata": {},
     "output_type": "execute_result"
    }
   ],
   "source": [
    "original_data.columns.values"
   ]
  },
  {
   "cell_type": "code",
   "execution_count": 125,
   "metadata": {},
   "outputs": [
    {
     "data": {
      "text/html": [
       "<div>\n",
       "<style scoped>\n",
       "    .dataframe tbody tr th:only-of-type {\n",
       "        vertical-align: middle;\n",
       "    }\n",
       "\n",
       "    .dataframe tbody tr th {\n",
       "        vertical-align: top;\n",
       "    }\n",
       "\n",
       "    .dataframe thead th {\n",
       "        text-align: right;\n",
       "    }\n",
       "</style>\n",
       "<table border=\"1\" class=\"dataframe\">\n",
       "  <thead>\n",
       "    <tr style=\"text-align: right;\">\n",
       "      <th></th>\n",
       "      <th>Unnamed: 0</th>\n",
       "      <th>Unnamed: 1</th>\n",
       "      <th>Unnamed: 2</th>\n",
       "      <th>Unnamed: 3</th>\n",
       "      <th>Unnamed: 4</th>\n",
       "      <th>Unnamed: 5</th>\n",
       "      <th>Exch Rate</th>\n",
       "      <th>Adjusted</th>\n",
       "      <th>Unnamed: 8</th>\n",
       "      <th>Unnamed: 9</th>\n",
       "      <th>Exch Rate.1</th>\n",
       "      <th>Adjusted.1</th>\n",
       "      <th>Unnamed: 12</th>\n",
       "      <th>Unnamed: 13</th>\n",
       "      <th>Exch Rate.2</th>\n",
       "      <th>Adjusted.2</th>\n",
       "    </tr>\n",
       "  </thead>\n",
       "  <tbody>\n",
       "    <tr>\n",
       "      <th>0</th>\n",
       "      <td>NaN</td>\n",
       "      <td>NaT</td>\n",
       "      <td>NaN</td>\n",
       "      <td>DJIA</td>\n",
       "      <td>NaN</td>\n",
       "      <td>FTSE-100</td>\n",
       "      <td>USD/GBP</td>\n",
       "      <td>FTSE-500</td>\n",
       "      <td>NaN</td>\n",
       "      <td>CAC-40</td>\n",
       "      <td>EUR/USD</td>\n",
       "      <td>CAC-40</td>\n",
       "      <td>NaN</td>\n",
       "      <td>Nikkei</td>\n",
       "      <td>YEN/USD</td>\n",
       "      <td>Nikkei</td>\n",
       "    </tr>\n",
       "    <tr>\n",
       "      <th>1</th>\n",
       "      <td>Day</td>\n",
       "      <td>NaT</td>\n",
       "      <td>NaN</td>\n",
       "      <td>NaN</td>\n",
       "      <td>NaN</td>\n",
       "      <td>NaN</td>\n",
       "      <td>NaN</td>\n",
       "      <td>NaN</td>\n",
       "      <td>NaN</td>\n",
       "      <td>NaN</td>\n",
       "      <td>NaN</td>\n",
       "      <td>NaN</td>\n",
       "      <td>NaN</td>\n",
       "      <td>NaN</td>\n",
       "      <td>NaN</td>\n",
       "      <td>NaN</td>\n",
       "    </tr>\n",
       "    <tr>\n",
       "      <th>2</th>\n",
       "      <td>0</td>\n",
       "      <td>2006-08-07</td>\n",
       "      <td>NaN</td>\n",
       "      <td>11219.38</td>\n",
       "      <td>NaN</td>\n",
       "      <td>5828.8</td>\n",
       "      <td>1.9098</td>\n",
       "      <td>11131.84224</td>\n",
       "      <td>NaN</td>\n",
       "      <td>4956.34</td>\n",
       "      <td>0.7776</td>\n",
       "      <td>6373.894033</td>\n",
       "      <td>NaN</td>\n",
       "      <td>15154.06</td>\n",
       "      <td>115</td>\n",
       "      <td>131.774435</td>\n",
       "    </tr>\n",
       "    <tr>\n",
       "      <th>3</th>\n",
       "      <td>1</td>\n",
       "      <td>2006-08-08</td>\n",
       "      <td>NaN</td>\n",
       "      <td>11173.59</td>\n",
       "      <td>NaN</td>\n",
       "      <td>5818.1</td>\n",
       "      <td>1.9072</td>\n",
       "      <td>11096.28032</td>\n",
       "      <td>NaN</td>\n",
       "      <td>4967.95</td>\n",
       "      <td>0.7789</td>\n",
       "      <td>6378.16151</td>\n",
       "      <td>NaN</td>\n",
       "      <td>15464.66</td>\n",
       "      <td>115.08</td>\n",
       "      <td>134.381821</td>\n",
       "    </tr>\n",
       "    <tr>\n",
       "      <th>4</th>\n",
       "      <td>2</td>\n",
       "      <td>2006-08-09</td>\n",
       "      <td>NaN</td>\n",
       "      <td>11076.18</td>\n",
       "      <td>NaN</td>\n",
       "      <td>5860.5</td>\n",
       "      <td>1.9086</td>\n",
       "      <td>11185.3503</td>\n",
       "      <td>NaN</td>\n",
       "      <td>5025.15</td>\n",
       "      <td>0.7762</td>\n",
       "      <td>6474.040196</td>\n",
       "      <td>NaN</td>\n",
       "      <td>15656.59</td>\n",
       "      <td>115.17</td>\n",
       "      <td>135.943301</td>\n",
       "    </tr>\n",
       "  </tbody>\n",
       "</table>\n",
       "</div>"
      ],
      "text/plain": [
       "  Unnamed: 0 Unnamed: 1  Unnamed: 2 Unnamed: 3  Unnamed: 4 Unnamed: 5  \\\n",
       "0        NaN        NaT         NaN       DJIA         NaN   FTSE-100   \n",
       "1        Day        NaT         NaN        NaN         NaN        NaN   \n",
       "2          0 2006-08-07         NaN   11219.38         NaN     5828.8   \n",
       "3          1 2006-08-08         NaN   11173.59         NaN     5818.1   \n",
       "4          2 2006-08-09         NaN   11076.18         NaN     5860.5   \n",
       "\n",
       "  Exch Rate     Adjusted  Unnamed: 8 Unnamed: 9 Exch Rate.1   Adjusted.1  \\\n",
       "0   USD/GBP     FTSE-500         NaN     CAC-40     EUR/USD       CAC-40   \n",
       "1       NaN          NaN         NaN        NaN         NaN          NaN   \n",
       "2    1.9098  11131.84224         NaN    4956.34      0.7776  6373.894033   \n",
       "3    1.9072  11096.28032         NaN    4967.95      0.7789   6378.16151   \n",
       "4    1.9086   11185.3503         NaN    5025.15      0.7762  6474.040196   \n",
       "\n",
       "   Unnamed: 12 Unnamed: 13 Exch Rate.2  Adjusted.2  \n",
       "0          NaN      Nikkei     YEN/USD      Nikkei  \n",
       "1          NaN         NaN         NaN         NaN  \n",
       "2          NaN    15154.06         115  131.774435  \n",
       "3          NaN    15464.66      115.08  134.381821  \n",
       "4          NaN    15656.59      115.17  135.943301  "
      ]
     },
     "execution_count": 125,
     "metadata": {},
     "output_type": "execute_result"
    }
   ],
   "source": [
    "original_data.head()"
   ]
  },
  {
   "attachments": {},
   "cell_type": "markdown",
   "metadata": {},
   "source": [
    "因为表中已经包含了使用exchange rate进行折算的列，所以先去除不需要的列"
   ]
  },
  {
   "cell_type": "code",
   "execution_count": 126,
   "metadata": {},
   "outputs": [],
   "source": [
    "filtered_data = original_data.drop(labels=['Unnamed: 2', 'Unnamed: 4', 'Unnamed: 5', 'Exch Rate', 'Unnamed: 8', 'Unnamed: 9',\n",
    "    'Exch Rate.1', 'Unnamed: 12', 'Unnamed: 13', 'Exch Rate.2'\n",
    "], axis=1)"
   ]
  },
  {
   "cell_type": "code",
   "execution_count": 127,
   "metadata": {},
   "outputs": [
    {
     "data": {
      "text/html": [
       "<div>\n",
       "<style scoped>\n",
       "    .dataframe tbody tr th:only-of-type {\n",
       "        vertical-align: middle;\n",
       "    }\n",
       "\n",
       "    .dataframe tbody tr th {\n",
       "        vertical-align: top;\n",
       "    }\n",
       "\n",
       "    .dataframe thead th {\n",
       "        text-align: right;\n",
       "    }\n",
       "</style>\n",
       "<table border=\"1\" class=\"dataframe\">\n",
       "  <thead>\n",
       "    <tr style=\"text-align: right;\">\n",
       "      <th></th>\n",
       "      <th>Unnamed: 0</th>\n",
       "      <th>Unnamed: 1</th>\n",
       "      <th>Unnamed: 3</th>\n",
       "      <th>Adjusted</th>\n",
       "      <th>Adjusted.1</th>\n",
       "      <th>Adjusted.2</th>\n",
       "    </tr>\n",
       "  </thead>\n",
       "  <tbody>\n",
       "    <tr>\n",
       "      <th>0</th>\n",
       "      <td>NaN</td>\n",
       "      <td>NaT</td>\n",
       "      <td>DJIA</td>\n",
       "      <td>FTSE-500</td>\n",
       "      <td>CAC-40</td>\n",
       "      <td>Nikkei</td>\n",
       "    </tr>\n",
       "    <tr>\n",
       "      <th>1</th>\n",
       "      <td>Day</td>\n",
       "      <td>NaT</td>\n",
       "      <td>NaN</td>\n",
       "      <td>NaN</td>\n",
       "      <td>NaN</td>\n",
       "      <td>NaN</td>\n",
       "    </tr>\n",
       "    <tr>\n",
       "      <th>2</th>\n",
       "      <td>0</td>\n",
       "      <td>2006-08-07</td>\n",
       "      <td>11219.38</td>\n",
       "      <td>11131.84224</td>\n",
       "      <td>6373.894033</td>\n",
       "      <td>131.774435</td>\n",
       "    </tr>\n",
       "    <tr>\n",
       "      <th>3</th>\n",
       "      <td>1</td>\n",
       "      <td>2006-08-08</td>\n",
       "      <td>11173.59</td>\n",
       "      <td>11096.28032</td>\n",
       "      <td>6378.16151</td>\n",
       "      <td>134.381821</td>\n",
       "    </tr>\n",
       "    <tr>\n",
       "      <th>4</th>\n",
       "      <td>2</td>\n",
       "      <td>2006-08-09</td>\n",
       "      <td>11076.18</td>\n",
       "      <td>11185.3503</td>\n",
       "      <td>6474.040196</td>\n",
       "      <td>135.943301</td>\n",
       "    </tr>\n",
       "  </tbody>\n",
       "</table>\n",
       "</div>"
      ],
      "text/plain": [
       "  Unnamed: 0 Unnamed: 1 Unnamed: 3     Adjusted   Adjusted.1  Adjusted.2\n",
       "0        NaN        NaT       DJIA     FTSE-500       CAC-40      Nikkei\n",
       "1        Day        NaT        NaN          NaN          NaN         NaN\n",
       "2          0 2006-08-07   11219.38  11131.84224  6373.894033  131.774435\n",
       "3          1 2006-08-08   11173.59  11096.28032   6378.16151  134.381821\n",
       "4          2 2006-08-09   11076.18   11185.3503  6474.040196  135.943301"
      ]
     },
     "execution_count": 127,
     "metadata": {},
     "output_type": "execute_result"
    }
   ],
   "source": [
    "filtered_data.head()"
   ]
  },
  {
   "attachments": {},
   "cell_type": "markdown",
   "metadata": {},
   "source": [
    "然后去掉没有实际数据的前两行"
   ]
  },
  {
   "cell_type": "code",
   "execution_count": 128,
   "metadata": {},
   "outputs": [],
   "source": [
    "filtered_data_1 = filtered_data.drop(labels=[0, 1], axis=0)"
   ]
  },
  {
   "cell_type": "code",
   "execution_count": 129,
   "metadata": {},
   "outputs": [
    {
     "data": {
      "text/html": [
       "<div>\n",
       "<style scoped>\n",
       "    .dataframe tbody tr th:only-of-type {\n",
       "        vertical-align: middle;\n",
       "    }\n",
       "\n",
       "    .dataframe tbody tr th {\n",
       "        vertical-align: top;\n",
       "    }\n",
       "\n",
       "    .dataframe thead th {\n",
       "        text-align: right;\n",
       "    }\n",
       "</style>\n",
       "<table border=\"1\" class=\"dataframe\">\n",
       "  <thead>\n",
       "    <tr style=\"text-align: right;\">\n",
       "      <th></th>\n",
       "      <th>Unnamed: 0</th>\n",
       "      <th>Unnamed: 1</th>\n",
       "      <th>Unnamed: 3</th>\n",
       "      <th>Adjusted</th>\n",
       "      <th>Adjusted.1</th>\n",
       "      <th>Adjusted.2</th>\n",
       "    </tr>\n",
       "  </thead>\n",
       "  <tbody>\n",
       "    <tr>\n",
       "      <th>2</th>\n",
       "      <td>0</td>\n",
       "      <td>2006-08-07</td>\n",
       "      <td>11219.38</td>\n",
       "      <td>11131.84224</td>\n",
       "      <td>6373.894033</td>\n",
       "      <td>131.774435</td>\n",
       "    </tr>\n",
       "    <tr>\n",
       "      <th>3</th>\n",
       "      <td>1</td>\n",
       "      <td>2006-08-08</td>\n",
       "      <td>11173.59</td>\n",
       "      <td>11096.28032</td>\n",
       "      <td>6378.16151</td>\n",
       "      <td>134.381821</td>\n",
       "    </tr>\n",
       "    <tr>\n",
       "      <th>4</th>\n",
       "      <td>2</td>\n",
       "      <td>2006-08-09</td>\n",
       "      <td>11076.18</td>\n",
       "      <td>11185.3503</td>\n",
       "      <td>6474.040196</td>\n",
       "      <td>135.943301</td>\n",
       "    </tr>\n",
       "    <tr>\n",
       "      <th>5</th>\n",
       "      <td>3</td>\n",
       "      <td>2006-08-10</td>\n",
       "      <td>11124.37</td>\n",
       "      <td>11016.70812</td>\n",
       "      <td>6357.485948</td>\n",
       "      <td>135.43809</td>\n",
       "    </tr>\n",
       "    <tr>\n",
       "      <th>6</th>\n",
       "      <td>4</td>\n",
       "      <td>2006-08-11</td>\n",
       "      <td>11088.02</td>\n",
       "      <td>11040.7297</td>\n",
       "      <td>6364.764458</td>\n",
       "      <td>134.100284</td>\n",
       "    </tr>\n",
       "  </tbody>\n",
       "</table>\n",
       "</div>"
      ],
      "text/plain": [
       "  Unnamed: 0 Unnamed: 1 Unnamed: 3     Adjusted   Adjusted.1  Adjusted.2\n",
       "2          0 2006-08-07   11219.38  11131.84224  6373.894033  131.774435\n",
       "3          1 2006-08-08   11173.59  11096.28032   6378.16151  134.381821\n",
       "4          2 2006-08-09   11076.18   11185.3503  6474.040196  135.943301\n",
       "5          3 2006-08-10   11124.37  11016.70812  6357.485948   135.43809\n",
       "6          4 2006-08-11   11088.02   11040.7297  6364.764458  134.100284"
      ]
     },
     "execution_count": 129,
     "metadata": {},
     "output_type": "execute_result"
    }
   ],
   "source": [
    "filtered_data_1.head()"
   ]
  },
  {
   "attachments": {},
   "cell_type": "markdown",
   "metadata": {},
   "source": [
    "然后重新命名一下行索引，然后去掉Unnamed: 0这一列"
   ]
  },
  {
   "cell_type": "code",
   "execution_count": 130,
   "metadata": {},
   "outputs": [
    {
     "data": {
      "text/plain": [
       "0        0\n",
       "1        1\n",
       "2        2\n",
       "3        3\n",
       "4        4\n",
       "      ... \n",
       "496    496\n",
       "497    497\n",
       "498    498\n",
       "499    499\n",
       "500    500\n",
       "Name: Unnamed: 0, Length: 501, dtype: object"
      ]
     },
     "execution_count": 130,
     "metadata": {},
     "output_type": "execute_result"
    }
   ],
   "source": [
    "filtered_data_1.index = filtered_data_1['Unnamed: 0'].tolist()\n",
    "filtered_data_1.pop('Unnamed: 0')"
   ]
  },
  {
   "attachments": {},
   "cell_type": "markdown",
   "metadata": {},
   "source": [
    "此时查看一下数据，已经变成了我们想要的形式"
   ]
  },
  {
   "cell_type": "code",
   "execution_count": 131,
   "metadata": {},
   "outputs": [
    {
     "data": {
      "text/html": [
       "<div>\n",
       "<style scoped>\n",
       "    .dataframe tbody tr th:only-of-type {\n",
       "        vertical-align: middle;\n",
       "    }\n",
       "\n",
       "    .dataframe tbody tr th {\n",
       "        vertical-align: top;\n",
       "    }\n",
       "\n",
       "    .dataframe thead th {\n",
       "        text-align: right;\n",
       "    }\n",
       "</style>\n",
       "<table border=\"1\" class=\"dataframe\">\n",
       "  <thead>\n",
       "    <tr style=\"text-align: right;\">\n",
       "      <th></th>\n",
       "      <th>Unnamed: 1</th>\n",
       "      <th>Unnamed: 3</th>\n",
       "      <th>Adjusted</th>\n",
       "      <th>Adjusted.1</th>\n",
       "      <th>Adjusted.2</th>\n",
       "    </tr>\n",
       "  </thead>\n",
       "  <tbody>\n",
       "    <tr>\n",
       "      <th>0</th>\n",
       "      <td>2006-08-07</td>\n",
       "      <td>11219.38</td>\n",
       "      <td>11131.84224</td>\n",
       "      <td>6373.894033</td>\n",
       "      <td>131.774435</td>\n",
       "    </tr>\n",
       "    <tr>\n",
       "      <th>1</th>\n",
       "      <td>2006-08-08</td>\n",
       "      <td>11173.59</td>\n",
       "      <td>11096.28032</td>\n",
       "      <td>6378.16151</td>\n",
       "      <td>134.381821</td>\n",
       "    </tr>\n",
       "    <tr>\n",
       "      <th>2</th>\n",
       "      <td>2006-08-09</td>\n",
       "      <td>11076.18</td>\n",
       "      <td>11185.3503</td>\n",
       "      <td>6474.040196</td>\n",
       "      <td>135.943301</td>\n",
       "    </tr>\n",
       "    <tr>\n",
       "      <th>3</th>\n",
       "      <td>2006-08-10</td>\n",
       "      <td>11124.37</td>\n",
       "      <td>11016.70812</td>\n",
       "      <td>6357.485948</td>\n",
       "      <td>135.43809</td>\n",
       "    </tr>\n",
       "    <tr>\n",
       "      <th>4</th>\n",
       "      <td>2006-08-11</td>\n",
       "      <td>11088.02</td>\n",
       "      <td>11040.7297</td>\n",
       "      <td>6364.764458</td>\n",
       "      <td>134.100284</td>\n",
       "    </tr>\n",
       "  </tbody>\n",
       "</table>\n",
       "</div>"
      ],
      "text/plain": [
       "  Unnamed: 1 Unnamed: 3     Adjusted   Adjusted.1  Adjusted.2\n",
       "0 2006-08-07   11219.38  11131.84224  6373.894033  131.774435\n",
       "1 2006-08-08   11173.59  11096.28032   6378.16151  134.381821\n",
       "2 2006-08-09   11076.18   11185.3503  6474.040196  135.943301\n",
       "3 2006-08-10   11124.37  11016.70812  6357.485948   135.43809\n",
       "4 2006-08-11   11088.02   11040.7297  6364.764458  134.100284"
      ]
     },
     "execution_count": 131,
     "metadata": {},
     "output_type": "execute_result"
    }
   ],
   "source": [
    "filtered_data_1.head()"
   ]
  },
  {
   "attachments": {},
   "cell_type": "markdown",
   "metadata": {},
   "source": [
    "最后修改一下列索引名"
   ]
  },
  {
   "cell_type": "code",
   "execution_count": 132,
   "metadata": {},
   "outputs": [],
   "source": [
    "final_filtered_data = filtered_data_1.rename(columns={'Unnamed: 1':'Date', 'Unnamed: 3':'DJIA', 'Adjusted':'FTSE-500', 'Adjusted.1':'CAC-40', 'Adjusted.2':'Nikkei'})"
   ]
  },
  {
   "cell_type": "code",
   "execution_count": 133,
   "metadata": {},
   "outputs": [
    {
     "data": {
      "text/html": [
       "<div>\n",
       "<style scoped>\n",
       "    .dataframe tbody tr th:only-of-type {\n",
       "        vertical-align: middle;\n",
       "    }\n",
       "\n",
       "    .dataframe tbody tr th {\n",
       "        vertical-align: top;\n",
       "    }\n",
       "\n",
       "    .dataframe thead th {\n",
       "        text-align: right;\n",
       "    }\n",
       "</style>\n",
       "<table border=\"1\" class=\"dataframe\">\n",
       "  <thead>\n",
       "    <tr style=\"text-align: right;\">\n",
       "      <th></th>\n",
       "      <th>Date</th>\n",
       "      <th>DJIA</th>\n",
       "      <th>FTSE-500</th>\n",
       "      <th>CAC-40</th>\n",
       "      <th>Nikkei</th>\n",
       "    </tr>\n",
       "  </thead>\n",
       "  <tbody>\n",
       "    <tr>\n",
       "      <th>0</th>\n",
       "      <td>2006-08-07</td>\n",
       "      <td>11219.38</td>\n",
       "      <td>11131.84224</td>\n",
       "      <td>6373.894033</td>\n",
       "      <td>131.774435</td>\n",
       "    </tr>\n",
       "    <tr>\n",
       "      <th>1</th>\n",
       "      <td>2006-08-08</td>\n",
       "      <td>11173.59</td>\n",
       "      <td>11096.28032</td>\n",
       "      <td>6378.16151</td>\n",
       "      <td>134.381821</td>\n",
       "    </tr>\n",
       "    <tr>\n",
       "      <th>2</th>\n",
       "      <td>2006-08-09</td>\n",
       "      <td>11076.18</td>\n",
       "      <td>11185.3503</td>\n",
       "      <td>6474.040196</td>\n",
       "      <td>135.943301</td>\n",
       "    </tr>\n",
       "    <tr>\n",
       "      <th>3</th>\n",
       "      <td>2006-08-10</td>\n",
       "      <td>11124.37</td>\n",
       "      <td>11016.70812</td>\n",
       "      <td>6357.485948</td>\n",
       "      <td>135.43809</td>\n",
       "    </tr>\n",
       "    <tr>\n",
       "      <th>4</th>\n",
       "      <td>2006-08-11</td>\n",
       "      <td>11088.02</td>\n",
       "      <td>11040.7297</td>\n",
       "      <td>6364.764458</td>\n",
       "      <td>134.100284</td>\n",
       "    </tr>\n",
       "  </tbody>\n",
       "</table>\n",
       "</div>"
      ],
      "text/plain": [
       "        Date      DJIA     FTSE-500       CAC-40      Nikkei\n",
       "0 2006-08-07  11219.38  11131.84224  6373.894033  131.774435\n",
       "1 2006-08-08  11173.59  11096.28032   6378.16151  134.381821\n",
       "2 2006-08-09  11076.18   11185.3503  6474.040196  135.943301\n",
       "3 2006-08-10  11124.37  11016.70812  6357.485948   135.43809\n",
       "4 2006-08-11  11088.02   11040.7297  6364.764458  134.100284"
      ]
     },
     "execution_count": 133,
     "metadata": {},
     "output_type": "execute_result"
    }
   ],
   "source": [
    "final_filtered_data.head()"
   ]
  },
  {
   "cell_type": "code",
   "execution_count": 134,
   "metadata": {},
   "outputs": [],
   "source": [
    "amounted_invested = [3500.0, 3000.0, 1500.0, 2000.0]\n",
    "total_invested = 10000.0"
   ]
  },
  {
   "attachments": {},
   "cell_type": "markdown",
   "metadata": {},
   "source": [
    "根据note7，使用$v_n*\\frac{v_i}{v_{i-1}}$对第二天的value进行估算，因此编写函数cal_tomorrow_value进行计算，一次可以对一列数据进行计算，使用.shift()函数来移动一位，作为分子，最后去掉nan的值（一列501个数据，错位相除后只会得到500个有效结果）"
   ]
  },
  {
   "cell_type": "code",
   "execution_count": 135,
   "metadata": {},
   "outputs": [],
   "source": [
    "def cal_tomorrow_value(df, column_name):\n",
    "    today_value = df.loc[500, column_name]\n",
    "    tmp = df.shift(-1).loc[:, column_name] / df.loc[:, column_name]\n",
    "    return tmp.dropna() * today_value"
   ]
  },
  {
   "cell_type": "code",
   "execution_count": 136,
   "metadata": {},
   "outputs": [],
   "source": [
    "tomorrow_DIJA = cal_tomorrow_value(final_filtered_data, 'DJIA')\n",
    "tomorrow_FTSE = cal_tomorrow_value(final_filtered_data, 'FTSE-500')\n",
    "tomorrow_CAC = cal_tomorrow_value(final_filtered_data, 'CAC-40')\n",
    "tomorrow_Nikkei = cal_tomorrow_value(final_filtered_data, 'Nikkei')"
   ]
  },
  {
   "attachments": {},
   "cell_type": "markdown",
   "metadata": {},
   "source": [
    "之后计算loss，首先需要根据9月25日的资产情况，计算出每种产品的share，从而计算第二天也即tomorrow的资产，进而得到loss"
   ]
  },
  {
   "cell_type": "code",
   "execution_count": 137,
   "metadata": {},
   "outputs": [],
   "source": [
    "def cal_loss(df, tomorrow_DIJA, tomorrow_FTSE, tomorrow_CAC, tomorrow_Nikkei, amounted_invested, total_invested):\n",
    "    today_value = []\n",
    "    num_shares = []\n",
    "    column_names = ['DJIA', 'FTSE-500', 'CAC-40', 'Nikkei']\n",
    "    for i, column_name in enumerate(column_names):\n",
    "        today_value.append(df.loc[500, column_name])\n",
    "        num_shares.append(amounted_invested[i] / today_value[i])\n",
    "    \n",
    "    portfolio_value = tomorrow_DIJA * num_shares[0] + tomorrow_FTSE * num_shares[1] + \\\n",
    "        tomorrow_CAC * num_shares[2] + tomorrow_Nikkei * num_shares[3]\n",
    "    loss = total_invested - portfolio_value\n",
    "    return portfolio_value, loss\n",
    "\n"
   ]
  },
  {
   "cell_type": "code",
   "execution_count": 138,
   "metadata": {},
   "outputs": [],
   "source": [
    "portfolio_value, loss = cal_loss(final_filtered_data, tomorrow_DIJA, tomorrow_FTSE, tomorrow_CAC, tomorrow_Nikkei, amounted_invested, total_invested)"
   ]
  },
  {
   "cell_type": "code",
   "execution_count": 139,
   "metadata": {},
   "outputs": [],
   "source": [
    "loss_list = list(loss)"
   ]
  },
  {
   "cell_type": "code",
   "execution_count": 140,
   "metadata": {},
   "outputs": [],
   "source": [
    "loss_list.sort(reverse=True)"
   ]
  },
  {
   "attachments": {},
   "cell_type": "markdown",
   "metadata": {},
   "source": [
    "查看一下降序排列的loss的情况："
   ]
  },
  {
   "cell_type": "code",
   "execution_count": 141,
   "metadata": {},
   "outputs": [
    {
     "data": {
      "text/plain": [
       "[492.1868134440265,\n",
       " 365.021066484931,\n",
       " 292.96889631005615,\n",
       " 269.5542730767884,\n",
       " 257.1784816018953,\n",
       " 219.99831318976976,\n",
       " 216.8018201690429,\n",
       " 200.72430198783877,\n",
       " 198.20209435039396,\n",
       " 196.19116778457828]"
      ]
     },
     "execution_count": 141,
     "metadata": {},
     "output_type": "execute_result"
    }
   ],
   "source": [
    "loss_list[:10]"
   ]
  },
  {
   "cell_type": "code",
   "execution_count": 2,
   "metadata": {},
   "outputs": [],
   "source": [
    "# num_shares = [4000/11022.06, 3000/9599.90, 1000/6200.40, 2000/112.82]\n",
    "# value = [11022.06*(11173.59/11219.38), 9599.9*(11096.28/11131.84), 6200.4*(6378.16/6373.89), 112.82*(134.38/131.77)]"
   ]
  },
  {
   "cell_type": "code",
   "execution_count": 3,
   "metadata": {},
   "outputs": [
    {
     "data": {
      "text/plain": [
       "[10977.075328173216, 9569.233691105874, 6204.553775480906, 115.05465280412838]"
      ]
     },
     "execution_count": 3,
     "metadata": {},
     "output_type": "execute_result"
    }
   ],
   "source": [
    "# value"
   ]
  },
  {
   "cell_type": "code",
   "execution_count": 4,
   "metadata": {},
   "outputs": [
    {
     "data": {
      "text/plain": [
       "10014.375756196576"
      ]
     },
     "execution_count": 4,
     "metadata": {},
     "output_type": "execute_result"
    }
   ],
   "source": [
    "# np.sum(np.asarray(value) * np.asarray(num_shares))"
   ]
  },
  {
   "attachments": {},
   "cell_type": "markdown",
   "metadata": {},
   "source": [
    "根据note，取第六个作为VaR，也即219998，然后取前六个数字的均值作为ES"
   ]
  },
  {
   "cell_type": "code",
   "execution_count": 111,
   "metadata": {},
   "outputs": [
    {
     "data": {
      "text/plain": [
       "316.1513073512445"
      ]
     },
     "execution_count": 111,
     "metadata": {},
     "output_type": "execute_result"
    }
   ],
   "source": [
    "np.mean(loss_list[:6])"
   ]
  },
  {
   "cell_type": "code",
   "execution_count": 28,
   "metadata": {},
   "outputs": [
    {
     "data": {
      "text/plain": [
       "622.2483105899123"
      ]
     },
     "execution_count": 28,
     "metadata": {},
     "output_type": "execute_result"
    }
   ],
   "source": [
    "219.998 * np.sqrt(8)"
   ]
  },
  {
   "cell_type": "code",
   "execution_count": 112,
   "metadata": {},
   "outputs": [
    {
     "data": {
      "text/plain": [
       "894.2100639156329"
      ]
     },
     "execution_count": 112,
     "metadata": {},
     "output_type": "execute_result"
    }
   ],
   "source": [
    "316.151 * np.sqrt(8)"
   ]
  },
  {
   "attachments": {},
   "cell_type": "markdown",
   "metadata": {},
   "source": [
    "计算出1-day的结果后，乘以$\\sqrt{8}$得到8-day结果，由此可以得到置信度99%下的8-day VaR是622248，ES是894210"
   ]
  },
  {
   "attachments": {},
   "cell_type": "markdown",
   "metadata": {},
   "source": [
    "### Q3"
   ]
  },
  {
   "cell_type": "code",
   "execution_count": 30,
   "metadata": {},
   "outputs": [],
   "source": [
    "assumed_notional_principal = 100.0  # 设置债券面值为100元\n",
    "coupon = 0.06\n",
    "credit_spread = 0.015  # yield - risk_free_rate = 0.015\n",
    "risk_free_rate = 0.035\n",
    "recovery_rate = 0.4\n",
    "interval_year = 0.5  # 也即6个月"
   ]
  },
  {
   "attachments": {},
   "cell_type": "markdown",
   "metadata": {},
   "source": [
    "在本题目中，default time和获得credit payment的时刻是能够一一对应的，因为都是每半年一次，所以就只用default_time这个列表来存储时刻"
   ]
  },
  {
   "cell_type": "code",
   "execution_count": 79,
   "metadata": {},
   "outputs": [],
   "source": [
    "default_time = [0.5, 1.0, 1.5, 2.0, 2.5, 3.0]\n",
    "payment_to_go = coupon * interval_year * assumed_notional_principal"
   ]
  },
  {
   "cell_type": "code",
   "execution_count": 80,
   "metadata": {},
   "outputs": [
    {
     "data": {
      "text/plain": [
       "3.0"
      ]
     },
     "execution_count": 80,
     "metadata": {},
     "output_type": "execute_result"
    }
   ],
   "source": [
    "payment_to_go"
   ]
  },
  {
   "attachments": {},
   "cell_type": "markdown",
   "metadata": {},
   "source": [
    "也就是每半年coupon能获得3元\n",
    "\n",
    "然后计算在各个default time下，相应的expected value of the default-free bond"
   ]
  },
  {
   "cell_type": "code",
   "execution_count": 81,
   "metadata": {},
   "outputs": [],
   "source": [
    "expected_value = []\n",
    "for i in default_time:\n",
    "    cur_expected_value = 0.0\n",
    "    j = i\n",
    "    while j <= 3.0:\n",
    "        if j != 3.0:\n",
    "            cur_expected_value += (payment_to_go * np.exp(-1 * risk_free_rate * (j - i)))\n",
    "        else:\n",
    "            cur_expected_value += (payment_to_go + assumed_notional_principal) * np.exp(-1 * risk_free_rate * (j - i))\n",
    "        j += 0.5\n",
    "    expected_value.append(cur_expected_value)"
   ]
  },
  {
   "cell_type": "code",
   "execution_count": 82,
   "metadata": {},
   "outputs": [
    {
     "data": {
      "text/plain": [
       "[108.85906115869356,\n",
       " 107.727899369248,\n",
       " 106.57676802451545,\n",
       " 105.40531458152456,\n",
       " 104.21318027350254,\n",
       " 103.0]"
      ]
     },
     "execution_count": 82,
     "metadata": {},
     "output_type": "execute_result"
    }
   ],
   "source": [
    "expected_value"
   ]
  },
  {
   "attachments": {},
   "cell_type": "markdown",
   "metadata": {},
   "source": [
    "由此计算出了在各个default time下，相应的expected value of the default-free bond"
   ]
  },
  {
   "cell_type": "code",
   "execution_count": 83,
   "metadata": {},
   "outputs": [],
   "source": [
    "loss = np.asarray(expected_value) - recovery_rate * assumed_notional_principal"
   ]
  },
  {
   "cell_type": "code",
   "execution_count": 84,
   "metadata": {},
   "outputs": [
    {
     "data": {
      "text/plain": [
       "array([68.85906116, 67.72789937, 66.57676802, 65.40531458, 64.21318027,\n",
       "       63.        ])"
      ]
     },
     "execution_count": 84,
     "metadata": {},
     "output_type": "execute_result"
    }
   ],
   "source": [
    "loss"
   ]
  },
  {
   "attachments": {},
   "cell_type": "markdown",
   "metadata": {},
   "source": [
    "减掉可以recover的部分后，得到了各个default time的loss，之后计算discount factor折现到初始时刻"
   ]
  },
  {
   "cell_type": "code",
   "execution_count": 85,
   "metadata": {},
   "outputs": [],
   "source": [
    "discount_factor = []\n",
    "for i, cur_time in enumerate(default_time):\n",
    "    discount_factor.append(np.exp(-1 * risk_free_rate * default_time[i]))"
   ]
  },
  {
   "cell_type": "code",
   "execution_count": 86,
   "metadata": {},
   "outputs": [],
   "source": [
    "pv_of_expected_loss = np.asarray(discount_factor) * loss"
   ]
  },
  {
   "attachments": {},
   "cell_type": "markdown",
   "metadata": {},
   "source": [
    "接下来开始进行step3，计算credit spread payments"
   ]
  },
  {
   "cell_type": "code",
   "execution_count": 87,
   "metadata": {},
   "outputs": [],
   "source": [
    "credit_payment = credit_spread * interval_year * assumed_notional_principal"
   ]
  },
  {
   "cell_type": "code",
   "execution_count": 88,
   "metadata": {},
   "outputs": [
    {
     "data": {
      "text/plain": [
       "0.75"
      ]
     },
     "execution_count": 88,
     "metadata": {},
     "output_type": "execute_result"
    }
   ],
   "source": [
    "credit_payment"
   ]
  },
  {
   "attachments": {},
   "cell_type": "markdown",
   "metadata": {},
   "source": [
    "也即每6个月获得0.75\n",
    "\n",
    "然后计算present value："
   ]
  },
  {
   "cell_type": "code",
   "execution_count": 89,
   "metadata": {},
   "outputs": [],
   "source": [
    "present_value = 0.0\n",
    "for cur_time in default_time:\n",
    "    present_value += (credit_payment * np.exp(-1 * risk_free_rate * cur_time))"
   ]
  },
  {
   "cell_type": "code",
   "execution_count": 90,
   "metadata": {},
   "outputs": [
    {
     "data": {
      "text/plain": [
       "4.2345368903411496"
      ]
     },
     "execution_count": 90,
     "metadata": {},
     "output_type": "execute_result"
    }
   ],
   "source": [
    "present_value"
   ]
  },
  {
   "cell_type": "code",
   "execution_count": 91,
   "metadata": {},
   "outputs": [],
   "source": [
    "Q = present_value / pv_of_expected_loss.sum()"
   ]
  },
  {
   "cell_type": "code",
   "execution_count": 92,
   "metadata": {},
   "outputs": [
    {
     "data": {
      "text/plain": [
       "0.011359593306859112"
      ]
     },
     "execution_count": 92,
     "metadata": {},
     "output_type": "execute_result"
    }
   ],
   "source": [
    "Q"
   ]
  },
  {
   "attachments": {},
   "cell_type": "markdown",
   "metadata": {},
   "source": [
    "因为一年可以default两次，所以上面这个Q实际上是半年的概率，每年的违约概率应该是2Q，因此可以得到final_Q"
   ]
  },
  {
   "cell_type": "code",
   "execution_count": 93,
   "metadata": {},
   "outputs": [
    {
     "data": {
      "text/plain": [
       "0.022719186613718224"
      ]
     },
     "execution_count": 93,
     "metadata": {},
     "output_type": "execute_result"
    }
   ],
   "source": [
    "final_Q = Q * 2\n",
    "final_Q"
   ]
  },
  {
   "attachments": {},
   "cell_type": "markdown",
   "metadata": {},
   "source": [
    "因此本题目的解答为：求解出的PD为2.27%\n",
    "\n",
    "此外，试着用近似公式$S/(1-R)$来估算，发现确实比较相近"
   ]
  },
  {
   "cell_type": "code",
   "execution_count": 94,
   "metadata": {},
   "outputs": [],
   "source": [
    "approximation_Q = credit_spread / (1 - recovery_rate)"
   ]
  },
  {
   "cell_type": "code",
   "execution_count": 95,
   "metadata": {},
   "outputs": [
    {
     "data": {
      "text/plain": [
       "0.025"
      ]
     },
     "execution_count": 95,
     "metadata": {},
     "output_type": "execute_result"
    }
   ],
   "source": [
    "approximation_Q"
   ]
  },
  {
   "attachments": {},
   "cell_type": "markdown",
   "metadata": {},
   "source": [
    "## Q4\n",
    "证明过程如下2张图所示"
   ]
  },
  {
   "cell_type": "code",
   "execution_count": 120,
   "metadata": {},
   "outputs": [],
   "source": [
    "img1 = Image.open('part1.png')\n",
    "img2 = Image.open('part2.png')"
   ]
  },
  {
   "cell_type": "code",
   "execution_count": 121,
   "metadata": {},
   "outputs": [
    {
     "data": {
      "image/png": "[encoded data removed]",
      "text/plain": [
       "<PIL.PngImagePlugin.PngImageFile image mode=RGBA size=563x369 at 0x7FAC813FA910>"
      ]
     },
     "execution_count": 121,
     "metadata": {},
     "output_type": "execute_result"
    }
   ],
   "source": [
    "img1"
   ]
  },
  {
   "cell_type": "code",
   "execution_count": 122,
   "metadata": {},
   "outputs": [
    {
     "data": {
      "image/png": "[encoded data removed]",
      "text/plain": [
       "<PIL.PngImagePlugin.PngImageFile image mode=RGBA size=567x380 at 0x7FAC813FA810>"
      ]
     },
     "execution_count": 122,
     "metadata": {},
     "output_type": "execute_result"
    }
   ],
   "source": [
    "img2"
   ]
  },
  {
   "cell_type": "code",
   "execution_count": null,
   "metadata": {},
   "outputs": [],
   "source": []
  }
 ],
 "metadata": {
  "kernelspec": {
   "display_name": "nlp",
   "language": "python",
   "name": "python3"
  },
  "language_info": {
   "codemirror_mode": {
    "name": "ipython",
    "version": 3
   },
   "file_extension": ".py",
   "mimetype": "text/x-python",
   "name": "python",
   "nbconvert_exporter": "python",
   "pygments_lexer": "ipython3",
   "version": "3.7.13"
  },
  "orig_nbformat": 4,
  "vscode": {
   "interpreter": {
    "hash": "fe030098a08ab86608f398b584914b43a7e33734ab9e6e0271e7808e2f51a186"
   }
  }
 },
 "nbformat": 4,
 "nbformat_minor": 2
}
